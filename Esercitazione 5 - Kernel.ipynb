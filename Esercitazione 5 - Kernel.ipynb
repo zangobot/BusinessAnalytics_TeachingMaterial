{
 "cells": [
  {
   "cell_type": "markdown",
   "source": [
    "# Esercitazione 5 - Kernel\n",
    "\n",
    "Oggi abbandoniamo il mondo dei classificatori e regressori lineari e iniziamo ad usare i Kernel.\n",
    "\n",
    "Un kernel è definito a partire da una funzione di distanza (come ad esempio le norme p, esponenziali, etc)\n",
    "\n",
    "Oggi vedremo come, al variare dei kernel, cambia la superficie di decisione imparata dall'algoritmo predittivo che sfrutta i kernel.\n",
    "\n",
    "<a target=\"_blank\" href=\"https://colab.research.google.com/github/zangobot/BusinessAnalytics_TeachingMaterial/blob/main/Esercitazione%205%20-%20Kernel.ipynb\">\n",
    "  <img src=\"https://colab.research.google.com/assets/colab-badge.svg\" alt=\"Open In Colab\"/>\n",
    "</a>"
   ],
   "metadata": {
    "collapsed": false
   }
  },
  {
   "cell_type": "code",
   "execution_count": 1,
   "outputs": [],
   "source": [
    "from sklearn.preprocessing import LabelEncoder\n",
    "import numpy as np\n",
    "import pandas as pd\n",
    "\n",
    "data = pd.read_csv('dati/penguins_size.csv').dropna()\n",
    "X, Y = data[['culmen_length_mm', 'culmen_depth_mm', 'flipper_length_mm', 'body_mass_g']], data['species']\n"
   ],
   "metadata": {
    "collapsed": false
   }
  }
 ],
 "metadata": {
  "kernelspec": {
   "display_name": "Python 3",
   "language": "python",
   "name": "python3"
  },
  "language_info": {
   "codemirror_mode": {
    "name": "ipython",
    "version": 2
   },
   "file_extension": ".py",
   "mimetype": "text/x-python",
   "name": "python",
   "nbconvert_exporter": "python",
   "pygments_lexer": "ipython2",
   "version": "2.7.6"
  }
 },
 "nbformat": 4,
 "nbformat_minor": 0
}
