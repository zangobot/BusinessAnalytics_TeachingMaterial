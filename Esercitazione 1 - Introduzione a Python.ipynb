{
 "cells": [
  {
   "cell_type": "markdown",
   "id": "b454dd2e",
   "metadata": {},
   "source": [
    "# Introduzione a Python\n",
    "\n",
    "Python è un linguaggio di programmazione sempre più popolare e richiesto nel mondo del lavoro, date le sue applicazioni nell'ambito dell'analisi dati e machine learning.\n",
    "\n",
    "Python è un linguaggio interpretato, quindi permette allo sviluppatore di poter scrivere comandi e ricevere output direttamente dal programma che interpreta le vostre direttive.\n",
    "Un esempio è riportato qui sotto.\n",
    "La seguente riga di codice stamperà un messaggio a schermo: premete MAIUSC + INVIO sulla cella sottostante per eseguire il codice."
   ]
  },
  {
   "cell_type": "code",
   "execution_count": 3,
   "id": "9b338343",
   "metadata": {},
   "outputs": [
    {
     "name": "stdout",
     "output_type": "stream",
     "text": [
      "Hello World!\n"
     ]
    }
   ],
   "source": [
    "print(\"Hello World!\")"
   ]
  },
  {
   "cell_type": "markdown",
   "id": "4df9c499",
   "metadata": {},
   "source": [
    "# Google Colab\n",
    "\n",
    "Nel corso, useremo python principalmente tramite [Google Colab](https://colab.research.google.com/), un ambiente interattivo sviluppato per sfruttare l'infrastruttura cloud di Google.\n",
    "Seguendo questa modalità, non ci sarà bisogno di installare Python sulla propria macchina ma basterà completare i blocchi di codice all'interno della poattaforma cloud.\n",
    "\n",
    "Per aprire questa esercitazione su Colab, basta cliccare sull'immagine qui sotto:\n",
    "\n",
    "<a target=\"_blank\" href=\"https://colab.research.google.com/github/zangobot/BusinessAnalytics_TeachingMaterial/blob/main/Lab%200%20-%20Introduzione%20a%20Python.ipynb\">\n",
    "  <img src=\"https://colab.research.google.com/assets/colab-badge.svg\" alt=\"Open In Colab\"/>\n",
    "</a>\n",
    "\n",
    "Colab può essere aperto da qualsiasi dispositivo abbiate (tablet, computer, telefono) e non richiede nessun tipo di installazione.\n",
    "\n",
    "**ATTENZIONE:** se non collegate Colab ad un account Google Drive, tutti i vostri progressi andranno persi.\n",
    "RIcordatevi sempre di:\n",
    "* salvare il file colab all'interno del vostro Google Drive\n",
    "* OPPURE scaricare a fine esercitazione quello che avete scritto"
   ]
  },
  {
   "cell_type": "markdown",
   "source": [
    "# Opzionale: Installare Python sulla propria macchina\n",
    "\n",
    "Se per caso la rete dovesse avere un malfunzionamento, Colab non sarà più disponibile: lavorate sulla vostra macchina!\n",
    "Per installare Python, basta seguire questo tutorial: [https://python.land/installing-python](https://python.land/installing-python)\n",
    "Una volta impostata la macchina, per accedere alla linea di comando (tipo la prima cella di questo file), basterà eseguire:\n",
    "'python.exe' su Windows o 'python' su Linux e MacOS."
   ],
   "metadata": {
    "collapsed": false
   }
  },
  {
   "cell_type": "markdown",
   "source": [
    "Operazioni\n",
    "\n",
    "Iniziamo con delle semplici operazioni aritmetiche.\n",
    "Per sommare, sottrarre, moltiplicare, dividere basta digitare:"
   ],
   "metadata": {
    "collapsed": false
   }
  },
  {
   "cell_type": "code",
   "execution_count": 27,
   "id": "057054c5",
   "metadata": {},
   "outputs": [
    {
     "name": "stdout",
     "output_type": "stream",
     "text": [
      "2\n",
      "1\n",
      "6\n",
      "4.0\n",
      "4\n",
      "a1\n"
     ]
    },
    {
     "ename": "TypeError",
     "evalue": "unsupported operand type(s) for -: 'str' and 'str'",
     "output_type": "error",
     "traceback": [
      "\u001B[0;31m---------------------------------------------------------------------------\u001B[0m",
      "\u001B[0;31mTypeError\u001B[0m                                 Traceback (most recent call last)",
      "Cell \u001B[0;32mIn [27], line 13\u001B[0m\n\u001B[1;32m      9\u001B[0m \u001B[38;5;28mprint\u001B[39m(\u001B[38;5;241m9\u001B[39m \u001B[38;5;241m/\u001B[39m\u001B[38;5;241m/\u001B[39m \u001B[38;5;241m2\u001B[39m) \u001B[38;5;66;03m# DIVISIONE INTERA\u001B[39;00m\n\u001B[1;32m     11\u001B[0m \u001B[38;5;28mprint\u001B[39m(\u001B[38;5;124m'\u001B[39m\u001B[38;5;124ma\u001B[39m\u001B[38;5;124m'\u001B[39m \u001B[38;5;241m+\u001B[39m \u001B[38;5;124m'\u001B[39m\u001B[38;5;124m1\u001B[39m\u001B[38;5;124m'\u001B[39m) \u001B[38;5;66;03m# Concatenazione di stringhe\u001B[39;00m\n\u001B[0;32m---> 13\u001B[0m \u001B[38;5;28mprint\u001B[39m(\u001B[38;5;124;43m'\u001B[39;49m\u001B[38;5;124;43ma\u001B[39;49m\u001B[38;5;124;43m'\u001B[39;49m\u001B[43m \u001B[49m\u001B[38;5;241;43m-\u001B[39;49m\u001B[43m \u001B[49m\u001B[38;5;124;43m'\u001B[39;49m\u001B[38;5;124;43m1\u001B[39;49m\u001B[38;5;124;43m'\u001B[39;49m)\n",
      "\u001B[0;31mTypeError\u001B[0m: unsupported operand type(s) for -: 'str' and 'str'"
     ]
    }
   ],
   "source": [
    "print(1 + 1)\n",
    "\n",
    "print(10 - 9)\n",
    "\n",
    "print( 2 * 3)\n",
    "\n",
    "print(8 / 2)\n",
    "\n",
    "print(9 // 2) # DIVISIONE INTERA\n",
    "\n",
    "print('a' + '1') # Concatenazione di stringhe"
   ]
  },
  {
   "cell_type": "code",
   "execution_count": 7,
   "outputs": [],
   "source": [
    "# Esercizio: calcolate la somma dei numeri da 1 a 10 compresi\n",
    "# Esercizio: calcolate la moltiplicazione dei numeri da 1 a 10 compresi"
   ],
   "metadata": {
    "collapsed": false
   }
  },
  {
   "cell_type": "markdown",
   "source": [
    "Scrivere tutti i numeri uno dopo l'altro non ha molto senso. E se chiedessi 20,30,40 numeri?\n",
    "E se chiedessi di sommare SOLO i numeri pari o solo i numeri dispari?\n",
    "E se volessi salvare il risultato per dopo?"
   ],
   "metadata": {
    "collapsed": false
   }
  },
  {
   "cell_type": "markdown",
   "source": [
    "# Variabili\n",
    "\n",
    "Una *variabile* è una zona di memoria in cui salvo informazioni da utilizzare successivamente.\n",
    "Le variabili sono fondamentali per poter salvare risultati che si ottengono quando si programma.\n",
    "Per dichiarare variabili in Python, la sintassi è la seguente:"
   ],
   "metadata": {
    "collapsed": false
   }
  },
  {
   "cell_type": "code",
   "execution_count": 9,
   "outputs": [
    {
     "name": "stdout",
     "output_type": "stream",
     "text": [
      "6\n",
      "Ciao, questo è un messaggio\n",
      "Questa è magia nera\n"
     ]
    }
   ],
   "source": [
    "a = 3\n",
    "print(a * 2)\n",
    "\n",
    "b = \"Ciao, questo è un messaggio\"\n",
    "print(b)\n",
    "\n",
    "c = print\n",
    "c(\"Questa è magia nera\")"
   ],
   "metadata": {
    "collapsed": false
   }
  },
  {
   "cell_type": "markdown",
   "source": [
    "Tutto può essere assegnato ad una variabile: un numero, una stringa (sequenza di caratteri), perfino *print*.\n",
    "\n",
    "I caratteri ammessi per dare il nome ad una variabile sono:\n",
    "* tutte le lettere maiuscole e minuscole (A-Z e a-z)\n",
    "* tutti i numeri (0-9)\n",
    "* il carattere speciale underscore _\n",
    "\n",
    "Le variabili sono utili quando hanno un nome significativo, così da poter ricordare successivamente per cosa fossero state create.\n",
    "**Usare lo stesso nome significa usare la stessa variabile**:"
   ],
   "metadata": {
    "collapsed": false
   }
  },
  {
   "cell_type": "code",
   "execution_count": 10,
   "outputs": [
    {
     "name": "stdout",
     "output_type": "stream",
     "text": [
      "Ciao\n"
     ]
    }
   ],
   "source": [
    "a = 5\n",
    "a = \"Ciao\"\n",
    "\n",
    "print(a)"
   ],
   "metadata": {
    "collapsed": false
   }
  },
  {
   "cell_type": "markdown",
   "source": [
    "L'ultima assegnazione è quella che conta. Potete accumulare i risultati dentro ua variabile, ed il valore sarà sempre l'ultimo assegnato."
   ],
   "metadata": {
    "collapsed": false
   }
  },
  {
   "cell_type": "code",
   "execution_count": 11,
   "outputs": [],
   "source": [
    "# Esercizio: sommare due numeri, salvarli dentro una variabile e stamparli in output\n",
    "# Esercizio: dividere due numeri, salvarli dentro una variabile e stamparli in output\n",
    "# Esercizio: dividere due numeri, ma uno è zero"
   ],
   "metadata": {
    "collapsed": false
   }
  },
  {
   "cell_type": "markdown",
   "source": [
    "# Booleani e condizioni\n",
    "\n",
    "Un programma deve accorgersi della possibile divisione per zero, o comunque avere la possibilità di decidere in base a delle condizioni.\n",
    "Introduciamo quindi i valori di verità VERO e FALSO."
   ],
   "metadata": {
    "collapsed": false
   }
  },
  {
   "cell_type": "code",
   "execution_count": 14,
   "outputs": [
    {
     "name": "stdout",
     "output_type": "stream",
     "text": [
      "False\n",
      "True\n",
      "False\n",
      "True\n",
      "True\n",
      "False\n",
      "False\n",
      "True\n",
      "True\n",
      "False\n"
     ]
    }
   ],
   "source": [
    "a = True\n",
    "b = False\n",
    "\n",
    "print(a and b)\n",
    "print(a or b)\n",
    "print(not a)\n",
    "print(not b)\n",
    "\n",
    "c = 10\n",
    "d = 20\n",
    "print(c != d)\n",
    "print(c > d)\n",
    "print(c >= d)\n",
    "print(c < d)\n",
    "print(c <= d)\n",
    "print(c == d)\n"
   ],
   "metadata": {
    "collapsed": false
   }
  },
  {
   "cell_type": "markdown",
   "source": [
    "Con questi valori di verità, possiamo introdurre le condizioni."
   ],
   "metadata": {
    "collapsed": false
   }
  },
  {
   "cell_type": "code",
   "execution_count": 15,
   "outputs": [
    {
     "name": "stdout",
     "output_type": "stream",
     "text": [
      "2 è maggiore di 1\n",
      "Divisione per zero!\n"
     ]
    }
   ],
   "source": [
    "if 2 > 1:\n",
    "    print(\"2 è maggiore di 1\")\n",
    "\n",
    "a = 7\n",
    "b = 0\n",
    "if b == 0:\n",
    "    print(\"Divisione per zero!\")\n",
    "else:\n",
    "    print(a / b)"
   ],
   "metadata": {
    "collapsed": false
   }
  },
  {
   "cell_type": "markdown",
   "source": [
    "# Cicli\n",
    "\n",
    "Introduciamo ora i cicli, ossia il modo per ripetere operazioni o accumulare iterativamente risultati.\n",
    "Ci sono due tipo di cicli (equivalenti): FOR e WHILE.\n",
    "\n",
    "FOR ha la seguente sintassi:"
   ],
   "metadata": {
    "collapsed": false
   }
  },
  {
   "cell_type": "code",
   "execution_count": 20,
   "outputs": [
    {
     "name": "stdout",
     "output_type": "stream",
     "text": [
      "0\n",
      "1\n",
      "2\n",
      "3\n",
      "9\n",
      "8\n",
      "7\n",
      "6\n",
      "5\n",
      "4\n",
      "3\n",
      "2\n",
      "1\n",
      "0\n"
     ]
    }
   ],
   "source": [
    "elements = [0, 1, 2, 3]\n",
    "for e in elements:\n",
    "    print(e)\n",
    "\n",
    "# FOR <variabile> IN <lista>:\n",
    "    # corpo del for\n",
    "\n",
    "counter = 10\n",
    "while counter > 0:\n",
    "    counter = counter - 1\n",
    "    print(counter)\n",
    "\n",
    "# WHILE <considizione vera>:\n",
    "    # corpo dello while"
   ],
   "metadata": {
    "collapsed": false
   }
  },
  {
   "cell_type": "markdown",
   "source": [
    "Insieme ai cicli, introduciamo un tipo di dato speciale: le liste.\n",
    "Le liste contengono più valori, come la variabile 'elements'."
   ],
   "metadata": {
    "collapsed": false
   }
  },
  {
   "cell_type": "code",
   "execution_count": 24,
   "outputs": [
    {
     "name": "stdout",
     "output_type": "stream",
     "text": [
      "['a', 'b', 'c', 'd']\n",
      "a\n",
      "b\n",
      "c\n",
      "d\n",
      "[0, 2, 4, 6, 8, 10, 12, 14, 16, 18]\n",
      "[1, 3, 5, 7, 9, 11, 13, 15, 17, 19]\n"
     ]
    }
   ],
   "source": [
    "numbers = [0, 1, 2, 3 , 4]\n",
    "letters = ['a', 'b', 'c', 'd']\n",
    "print(letters)\n",
    "for l in letters:\n",
    "    print(l)\n",
    "\n",
    "even_numbers = range(0, 20, 2) # crea una lista con solo elementi pari, da 0 a 20\n",
    "odd_numbers = range(1, 20, 2) # crea una lista con solo elementi dispari, da 0 a 20\n",
    "print(list(even_numbers))\n",
    "print(list(odd_numbers))"
   ],
   "metadata": {
    "collapsed": false
   }
  },
  {
   "cell_type": "code",
   "execution_count": 28,
   "outputs": [],
   "source": [
    "# Esercizio: scrivere una lista con tutte le lettere dalla 'e' alla 'h'\n",
    "# Esercizio: scrivere una lista con tutti i numeri interi dal 100 al 120\n",
    "# Esercizio: scrivere una lista con tutti i numeri interi dal -10 a 0\n",
    "# Esercizio: scrivere un ciclo for per ogni esercizio precedente che stampi in output i valori di ogni elemento della lista"
   ],
   "metadata": {
    "collapsed": false
   }
  },
  {
   "cell_type": "markdown",
   "source": [
    "Le liste possono essere concatenate e gli elementi sono accessibili mediante la seguente sintassi."
   ],
   "metadata": {
    "collapsed": false
   }
  },
  {
   "cell_type": "code",
   "execution_count": 31,
   "outputs": [
    {
     "name": "stdout",
     "output_type": "stream",
     "text": [
      "[0, 1, 2, 3, 4, 5, 6, 7, 8, 9]\n",
      "[0, 1, 2, 3, 4, 5, 6, 7, 8, 9, 99]\n",
      "0\n",
      "3\n"
     ]
    },
    {
     "ename": "IndexError",
     "evalue": "list index out of range",
     "output_type": "error",
     "traceback": [
      "\u001B[0;31m---------------------------------------------------------------------------\u001B[0m",
      "\u001B[0;31mIndexError\u001B[0m                                Traceback (most recent call last)",
      "Cell \u001B[0;32mIn [31], line 6\u001B[0m\n\u001B[1;32m      4\u001B[0m \u001B[38;5;28mprint\u001B[39m(l1[\u001B[38;5;241m0\u001B[39m])\n\u001B[1;32m      5\u001B[0m \u001B[38;5;28mprint\u001B[39m(l1[\u001B[38;5;241m3\u001B[39m])\n\u001B[0;32m----> 6\u001B[0m \u001B[38;5;28mprint\u001B[39m(\u001B[43ml1\u001B[49m\u001B[43m[\u001B[49m\u001B[38;5;241;43m99\u001B[39;49m\u001B[43m]\u001B[49m)\n",
      "\u001B[0;31mIndexError\u001B[0m: list index out of range"
     ]
    }
   ],
   "source": [
    "l1 = list(range(10))\n",
    "print(l1)\n",
    "print(l1 + [99])\n",
    "print(l1[0])\n",
    "print(l1[3])\n",
    "print(l1[99]) # ERRORE, non esiste un elemento nella posizione 99 nella lista"
   ],
   "metadata": {
    "collapsed": false
   }
  },
  {
   "cell_type": "code",
   "execution_count": null,
   "outputs": [],
   "source": [],
   "metadata": {
    "collapsed": false
   }
  }
 ],
 "metadata": {
  "kernelspec": {
   "display_name": "Python 3 (ipykernel)",
   "language": "python",
   "name": "python3"
  },
  "language_info": {
   "codemirror_mode": {
    "name": "ipython",
    "version": 3
   },
   "file_extension": ".py",
   "mimetype": "text/x-python",
   "name": "python",
   "nbconvert_exporter": "python",
   "pygments_lexer": "ipython3",
   "version": "3.8.13"
  }
 },
 "nbformat": 4,
 "nbformat_minor": 5
}
