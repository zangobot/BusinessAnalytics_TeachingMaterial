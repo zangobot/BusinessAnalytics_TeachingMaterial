{
 "cells": [
  {
   "cell_type": "markdown",
   "id": "b454dd2e",
   "metadata": {},
   "source": [
    "# Introduzione a Python\n",
    "\n",
    "Python è un linguaggio di programmazione sempre più popolare e richiesto nel mondo del lavoro, date le sue applicazioni nell'ambito dell'analisi dati e machine learning.\n",
    "\n",
    "Python è un linguaggio interpretato, quindi permette allo sviluppatore di poter scrivere comandi e ricevere output direttamente dal programma che interpreta le vostre direttive.\n",
    "Un esempio è riportato qui sotto.\n",
    "La seguente riga di codice stamperà un messaggio a schermo: premete MAIUSC + INVIO sulla cella sottostante per eseguire il codice."
   ]
  },
  {
   "cell_type": "code",
   "execution_count": null,
   "id": "9b338343",
   "metadata": {},
   "outputs": [],
   "source": [
    "print(\"Hello World!\")"
   ]
  },
  {
   "cell_type": "markdown",
   "id": "4df9c499",
   "metadata": {},
   "source": [
    "# Google Colab\n",
    "\n",
    "Nel corso, useremo python principalmente tramite [Google Colab](https://colab.research.google.com/), un ambiente interattivo sviluppato per sfruttare l'infrastruttura cloud di Google.\n",
    "Seguendo questa modalità, non ci sarà bisogno di installare Python sulla propria macchina ma basterà completare i blocchi di codice all'interno della poattaforma cloud.\n",
    "\n",
    "Per aprire questa esercitazione su Colab, basta cliccare sull'immagine qui sotto:\n",
    "\n",
    "<a target=\"_blank\" href=\"https://colab.research.google.com/github/zangobot/BusinessAnalytics_TeachingMaterial/blob/main/Esercitazione%201%20-%20Introduzione%20a%20Python.ipynb\">\n",
    "  <img src=\"https://colab.research.google.com/assets/colab-badge.svg\" alt=\"Open In Colab\"/>\n",
    "</a>\n",
    "\n",
    "Colab può essere aperto da qualsiasi dispositivo abbiate (tablet, computer, telefono) e non richiede nessun tipo di installazione.\n",
    "\n",
    "**ATTENZIONE:** se non collegate Colab ad un account Google Drive, tutti i vostri progressi andranno persi.\n",
    "RIcordatevi sempre di:\n",
    "* salvare il file colab all'interno del vostro Google Drive\n",
    "* OPPURE scaricare a fine esercitazione quello che avete scritto"
   ]
  },
  {
   "cell_type": "markdown",
   "source": [
    "# Opzionale: Installare Python sulla propria macchina\n",
    "\n",
    "Se per caso la rete dovesse avere un malfunzionamento, Colab non sarà più disponibile: lavorate sulla vostra macchina!\n",
    "Per installare Python, basta seguire questo tutorial: [https://python.land/installing-python](https://python.land/installing-python)\n",
    "Una volta impostata la macchina, per accedere alla linea di comando (tipo la prima cella di questo file), basterà eseguire:\n",
    "'python.exe' su Windows o 'python' su Linux e MacOS."
   ],
   "metadata": {
    "collapsed": false
   }
  },
  {
   "cell_type": "markdown",
   "source": [
    "# Operazioni\n",
    "\n",
    "Iniziamo con delle semplici operazioni aritmetiche.\n",
    "Per sommare, sottrarre, moltiplicare, dividere basta digitare:"
   ],
   "metadata": {
    "collapsed": false
   }
  },
  {
   "cell_type": "code",
   "execution_count": null,
   "id": "057054c5",
   "metadata": {},
   "outputs": [],
   "source": [
    "print(1 + 1)\n",
    "\n",
    "print(10 - 9)\n",
    "\n",
    "print(2 * 3)\n",
    "\n",
    "print(8 / 2)\n",
    "\n",
    "print(9 // 2)  # DIVISIONE INTERA\n",
    "\n",
    "print(9 % 2)  # Resto della divisione\n",
    "\n",
    "print('a' + '1')  # Concatenazione di stringhe"
   ]
  },
  {
   "cell_type": "code",
   "execution_count": null,
   "outputs": [],
   "source": [
    "# Esercizio: calcolate la somma dei numeri da 1 a 10 compresi\n",
    "# Esercizio: calcolate la moltiplicazione dei numeri da 1 a 10 compresi"
   ],
   "metadata": {
    "collapsed": false
   }
  },
  {
   "cell_type": "markdown",
   "source": [
    "Scrivere tutti i numeri uno dopo l'altro non ha molto senso. E se chiedessi 20,30,40 numeri?\n",
    "E se chiedessi di sommare SOLO i numeri pari o solo i numeri dispari?\n",
    "E se volessi salvare il risultato per dopo?"
   ],
   "metadata": {
    "collapsed": false
   }
  },
  {
   "cell_type": "markdown",
   "source": [
    "# Variabili\n",
    "\n",
    "Una *variabile* è una zona di memoria in cui salvo informazioni da utilizzare successivamente.\n",
    "Le variabili sono fondamentali per poter salvare risultati che si ottengono quando si programma.\n",
    "Per dichiarare variabili in Python, la sintassi è la seguente:"
   ],
   "metadata": {
    "collapsed": false
   }
  },
  {
   "cell_type": "code",
   "execution_count": null,
   "outputs": [],
   "source": [
    "a = 3\n",
    "print(a * 2)\n",
    "\n",
    "b = \"Ciao, questo è un messaggio\"\n",
    "print(b)\n",
    "\n",
    "c = print\n",
    "c(\"Questa è magia nera\")"
   ],
   "metadata": {
    "collapsed": false
   }
  },
  {
   "cell_type": "markdown",
   "source": [
    "Tutto può essere assegnato ad una variabile: un numero, una stringa (sequenza di caratteri), perfino *print*.\n",
    "\n",
    "I caratteri ammessi per dare il nome ad una variabile sono:\n",
    "* tutte le lettere maiuscole e minuscole (A-Z e a-z)\n",
    "* tutti i numeri (0-9)\n",
    "* il carattere speciale underscore _\n",
    "\n",
    "Le variabili sono utili quando hanno un nome significativo, così da poter ricordare successivamente per cosa fossero state create.\n",
    "**Usare lo stesso nome significa usare la stessa variabile**:"
   ],
   "metadata": {
    "collapsed": false
   }
  },
  {
   "cell_type": "code",
   "execution_count": null,
   "outputs": [],
   "source": [
    "a = 5\n",
    "a = \"Ciao\"\n",
    "\n",
    "print(a)"
   ],
   "metadata": {
    "collapsed": false
   }
  },
  {
   "cell_type": "markdown",
   "source": [
    "L'ultima assegnazione è quella che conta. Potete accumulare i risultati dentro ua variabile, ed il valore sarà sempre l'ultimo assegnato."
   ],
   "metadata": {
    "collapsed": false
   }
  },
  {
   "cell_type": "code",
   "execution_count": null,
   "outputs": [],
   "source": [
    "# Esercizio: sommare due numeri, salvarli dentro una variabile e stamparli in output\n",
    "# Esercizio: dividere due numeri, salvarli dentro una variabile e stamparli in output\n",
    "# Esercizio: dividere due numeri, ma uno è zero"
   ],
   "metadata": {
    "collapsed": false
   }
  },
  {
   "cell_type": "markdown",
   "source": [
    "# Booleani e condizioni\n",
    "\n",
    "Un programma deve accorgersi della possibile divisione per zero, o comunque avere la possibilità di decidere in base a delle condizioni.\n",
    "Introduciamo quindi i valori di verità VERO e FALSO."
   ],
   "metadata": {
    "collapsed": false
   }
  },
  {
   "cell_type": "code",
   "execution_count": null,
   "outputs": [],
   "source": [
    "a = True\n",
    "b = False\n",
    "\n",
    "print(a and b)\n",
    "print(a or b)\n",
    "print(not a)\n",
    "print(not b)\n",
    "\n",
    "c = 10\n",
    "d = 20\n",
    "print(c != d)\n",
    "print(c > d)\n",
    "print(c >= d)\n",
    "print(c < d)\n",
    "print(c <= d)\n",
    "print(c == d)\n"
   ],
   "metadata": {
    "collapsed": false
   }
  },
  {
   "cell_type": "markdown",
   "source": [
    "Con questi valori di verità, possiamo introdurre le condizioni."
   ],
   "metadata": {
    "collapsed": false
   }
  },
  {
   "cell_type": "code",
   "execution_count": null,
   "outputs": [],
   "source": [
    "if 2 > 1:\n",
    "    print(\"2 è maggiore di 1\")\n",
    "\n",
    "a = 7\n",
    "b = 0\n",
    "if b == 0:\n",
    "    print(\"Divisione per zero!\")\n",
    "else:\n",
    "    print(a / b)"
   ],
   "metadata": {
    "collapsed": false
   }
  },
  {
   "cell_type": "markdown",
   "source": [
    "**ATTENZIONE:** Python richiede che, ogni blocco di codice venga INDENTATO correttamente.\n",
    "Notate come dentro all'IF, la print si trovi a 4 spazi (oppure un tab) di distanza dal margine.\n",
    "Ogni indentazione è seguita da un tab, come nel prossimo esempio:"
   ],
   "metadata": {
    "collapsed": false
   }
  },
  {
   "cell_type": "code",
   "execution_count": null,
   "outputs": [],
   "source": [
    "if True:\n",
    "    if True:\n",
    "        if True:\n",
    "            print('Indentazione IF interno')\n",
    "        print('Indentazione IF in mezzo')\n",
    "    print('Indentazione IF in cima')"
   ],
   "metadata": {
    "collapsed": false
   }
  },
  {
   "cell_type": "markdown",
   "source": [
    "# Cicli\n",
    "\n",
    "Introduciamo ora i cicli, ossia il modo per ripetere operazioni o accumulare iterativamente risultati.\n",
    "Ci sono due tipo di cicli (equivalenti): FOR e WHILE.\n",
    "\n",
    "FOR ha la seguente sintassi:"
   ],
   "metadata": {
    "collapsed": false
   }
  },
  {
   "cell_type": "code",
   "execution_count": null,
   "outputs": [],
   "source": [
    "elements = [0, 1, 2, 3]\n",
    "for e in elements:\n",
    "    print(e)\n",
    "\n",
    "# FOR <variabile> IN <lista>:\n",
    "# corpo del for\n",
    "\n",
    "counter = 10\n",
    "while counter > 0:\n",
    "    counter = counter - 1\n",
    "    print(counter)\n",
    "\n",
    "# WHILE <considizione vera>:\n",
    "# corpo dello while"
   ],
   "metadata": {
    "collapsed": false
   }
  },
  {
   "cell_type": "markdown",
   "source": [
    "Insieme ai cicli, introduciamo un tipo di dato speciale: le liste.\n",
    "Le liste contengono più valori, come la variabile 'elements'."
   ],
   "metadata": {
    "collapsed": false
   }
  },
  {
   "cell_type": "code",
   "execution_count": null,
   "outputs": [],
   "source": [
    "numbers = [0, 1, 2, 3, 4]\n",
    "letters = ['a', 'b', 'c', 'd']\n",
    "print(letters)\n",
    "for l in letters:\n",
    "    print(l)\n",
    "\n",
    "even_numbers = range(0, 20, 2)  # crea una lista con solo elementi pari, da 0 a 20\n",
    "odd_numbers = range(1, 20, 2)  # crea una lista con solo elementi dispari, da 0 a 20\n",
    "print(list(even_numbers))\n",
    "print(list(odd_numbers))"
   ],
   "metadata": {
    "collapsed": false
   }
  },
  {
   "cell_type": "code",
   "execution_count": null,
   "outputs": [],
   "source": [
    "# Esercizio: scrivere una lista con tutte le lettere dalla 'e' alla 'h'\n",
    "# Esercizio: scrivere una lista con tutti i numeri interi dal 100 al 120\n",
    "# Esercizio: scrivere una lista con tutti i numeri interi dal -10 a 0\n",
    "# Esercizio: scrivere un ciclo for per ogni esercizio precedente che stampi in output i valori di ogni elemento della lista"
   ],
   "metadata": {
    "collapsed": false
   }
  },
  {
   "cell_type": "markdown",
   "source": [
    "Le liste possono essere concatenate e gli elementi sono accessibili mediante la seguente sintassi."
   ],
   "metadata": {
    "collapsed": false
   }
  },
  {
   "cell_type": "code",
   "execution_count": null,
   "outputs": [],
   "source": [
    "l1 = list(range(10))\n",
    "print(l1)\n",
    "print(l1 + [99])  # aggiunge un 11esimo elemento\n",
    "print(l1[0])\n",
    "print(l1[3])\n",
    "print(l1[99])  # ERRORE, non esiste un elemento nella posizione 99 nella lista"
   ],
   "metadata": {
    "collapsed": false
   }
  },
  {
   "cell_type": "markdown",
   "source": [
    "# Funzioni\n",
    "\n",
    "Una funzione è una porzione di codice che, preso un input, svolge un compito e opzionalmente restituisce un output.\n",
    "Le funzioni sono importanti per la scrittura del codice, in quanto permettono di riutilizzare la stessa più volte senza replicare codice (e quindi riducendo possibili errori).\n",
    "Quella che abbiamo usato fino ad ora, *print*, è una funzione già resa disponibile da Python.\n"
   ],
   "metadata": {
    "collapsed": false
   }
  },
  {
   "cell_type": "code",
   "execution_count": null,
   "outputs": [],
   "source": [
    "def somma(a, b):\n",
    "    return a + b\n",
    "\n",
    "\n",
    "def print_somma(a, b):\n",
    "    print(a + b)\n",
    "    return  # Questo return è opzionale in caso di funzioni che non hanno output.\n",
    "\n",
    "\n",
    "print(somma(10, 20))\n",
    "print_somma(10, 20)\n",
    "\n",
    "output = print_somma(10, 20)\n",
    "\n",
    "print(len([9, 9, 9]))  # built-in per lunghezza di una lista\n",
    "\n",
    "print(output)  # l'output di una funzione senza return è None, un valore speciale\n"
   ],
   "metadata": {
    "collapsed": false
   }
  },
  {
   "cell_type": "markdown",
   "source": [
    "**ATTENZIONE**\n",
    "lo **scope** è il contesto in cui vivono le variabili.\n",
    "Ogni variabile ha un suo scope, in cui può essere acceduta.\n",
    "Le variabili dichiarate DENTRO una funzione non sono accessibili da fuori lo scope della funzione (quindi solo nel corpo della funzione).\n"
   ],
   "metadata": {
    "collapsed": false
   }
  },
  {
   "cell_type": "code",
   "execution_count": null,
   "outputs": [],
   "source": [
    "var1 = 'ciao'  #questa variabile è dichiarata nello scope del programma (che comprende tutte le celle)\n",
    "\n",
    "\n",
    "def funzione(a, b, c,\n",
    "             argomento=\"ciao\"):  #a,b,c,argomento sono dichiate dalla funzione. a,b,c NASCONDONO le precedenti dichiarazioni\n",
    "    print(a + b + c)\n",
    "    print(argomento)\n",
    "\n",
    "\n",
    "print(argomento)  # ERRORE! argomento non essite fuori dalla funzione, mentre a,b,c si perché dichiarate prima"
   ],
   "metadata": {
    "collapsed": false
   }
  },
  {
   "cell_type": "code",
   "execution_count": null,
   "outputs": [],
   "source": [
    "# Esercizio: scrivere una funzione che, presi due numeri in input, ritorni il primo diviso il secondo. Se il secondo è zero, stampare un messaggio di errore e ritornare False\n",
    "\n",
    "# Esercizio: scrivere una funzione che, dato un numero n in input, ritorni la somma di tutti i numeri fino a n\n",
    "\n",
    "# Esercizio: scrivere una funzione che, dato un numero in input, ritorni True se il numero è pari, False se dispari\n",
    "\n",
    "# Esercizio: scrivere una funzione che, dato un numero e una lista, ritorni quante volte quel numero compare nella lista\n",
    "\n",
    "# Esercizio: scrivere una funzione che, data una lista, ritorni una copia di quella lista"
   ],
   "metadata": {
    "collapsed": false
   }
  },
  {
   "cell_type": "markdown",
   "source": [
    "# Classi e oggetti\n",
    "\n",
    "Python non contiene di default tutte informazioni che vogliamo trattare.\n",
    "Per questo motivo esistono le *classi* ossia definizioni di tipi di dato.\n",
    "In questo modo, posso creare oggetti del tipo che mi serve per compiere operazioni (tipo Cliente, tipo Vendita, tipo Libro)."
   ],
   "metadata": {
    "collapsed": false
   }
  },
  {
   "cell_type": "code",
   "execution_count": 5,
   "outputs": [
    {
     "name": "stdout",
     "output_type": "stream",
     "text": [
      "3.414213562373095\n"
     ]
    }
   ],
   "source": [
    "import math\n",
    "\n",
    "\n",
    "class Punto:\n",
    "    def __init__(self, x, y):\n",
    "        self.x = x\n",
    "        self.y = y\n",
    "\n",
    "    def distanza(self, punto):\n",
    "        return math.sqrt(pow(self.x - punto.x, 2) + pow(self.y - punto.y, 2))\n",
    "\n",
    "\n",
    "class Triangolo:\n",
    "    def __init__(self, punto1, punto2, punto3):\n",
    "        self.p1 = punto1\n",
    "        self.p2 = punto2\n",
    "        self.p3 = punto3\n",
    "\n",
    "    def perimetro(self):\n",
    "        p1p2 = self.p1.distanza(self.p2)\n",
    "        p2p3 = self.p2.distanza(self.p3)\n",
    "        p3p1 = self.p3.distanza(self.p1)\n",
    "        return p1p2 + p2p3 + p3p1\n",
    "\n",
    "\n",
    "p1 = Punto(0, 0)\n",
    "p2 = Punto(1, 0)\n",
    "p3 = Punto(0, 1)\n",
    "triangolo = Triangolo(p1, p2, p3)\n",
    "print(triangolo.perimetro())\n"
   ],
   "metadata": {
    "collapsed": false
   }
  },
  {
   "cell_type": "markdown",
   "source": [
    "Con le classi, chudiamo il ripasso del linguaggio di programmazione Python e cominciamo con lo studio di dati e librerie per l'analisi predittiva."
   ],
   "metadata": {
    "collapsed": false
   }
  },
  {
   "cell_type": "markdown",
   "source": [
    "# Pandas e dataset del corso\n",
    "\n",
    "In questo corso utilizzeremo un dataset \"giocattolo\" per imparare come creare algoritmi predittivi sui dati.\n",
    "Il dataset in questione è chiamato \"Penguin Dataset\" ([https://www.kaggle.com/code/parulpandey/penguin-dataset-the-new-iris](https://www.kaggle.com/code/parulpandey/penguin-dataset-the-new-iris)), di cui forniamo copia in queste esercitazioni.\n",
    "\n",
    "Il dataset contiene informazioni relative a tre specie di pinguini, catalogate in base alle misure del corpo, massa e sesso.\n",
    "\n",
    "Per lavorare con il dataset, ci serviamo della libreria Pandas.\n",
    "\n",
    "**Per chi lavora in locale:** ricordate di installare la libreria: `pip install pandas`\n",
    "\n",
    "**Per chi utilizza Colab:** eseguite la sequente cella per scaricare anche i dati:"
   ],
   "metadata": {
    "collapsed": false
   }
  },
  {
   "cell_type": "code",
   "execution_count": null,
   "outputs": [],
   "source": [
    "!git clone \"https://github.com/zangobot/BusinessAnalytics_TeachingMaterial\""
   ],
   "metadata": {
    "collapsed": false
   }
  },
  {
   "cell_type": "markdown",
   "source": [
    "Iniziamo a caricare i dati all'interno di un DataFrame di Pandas, ossia un oggetto di tipo DataFrame contenente i dati dei pinguini:"
   ],
   "metadata": {
    "collapsed": false
   }
  },
  {
   "cell_type": "code",
   "execution_count": 10,
   "outputs": [
    {
     "name": "stdout",
     "output_type": "stream",
     "text": [
      "  species     island  culmen_length_mm  culmen_depth_mm  flipper_length_mm  \\\n",
      "0  Adelie  Torgersen              39.1             18.7              181.0   \n",
      "1  Adelie  Torgersen              39.5             17.4              186.0   \n",
      "2  Adelie  Torgersen              40.3             18.0              195.0   \n",
      "3  Adelie  Torgersen               NaN              NaN                NaN   \n",
      "4  Adelie  Torgersen              36.7             19.3              193.0   \n",
      "\n",
      "   body_mass_g     sex  \n",
      "0       3750.0    MALE  \n",
      "1       3800.0  FEMALE  \n",
      "2       3250.0  FEMALE  \n",
      "3          NaN     NaN  \n",
      "4       3450.0  FEMALE  \n",
      "<class 'pandas.core.frame.DataFrame'>\n",
      "RangeIndex: 344 entries, 0 to 343\n",
      "Data columns (total 7 columns):\n",
      " #   Column             Non-Null Count  Dtype  \n",
      "---  ------             --------------  -----  \n",
      " 0   species            344 non-null    object \n",
      " 1   island             344 non-null    object \n",
      " 2   culmen_length_mm   342 non-null    float64\n",
      " 3   culmen_depth_mm    342 non-null    float64\n",
      " 4   flipper_length_mm  342 non-null    float64\n",
      " 5   body_mass_g        342 non-null    float64\n",
      " 6   sex                334 non-null    object \n",
      "dtypes: float64(4), object(3)\n",
      "memory usage: 18.9+ KB\n",
      "None\n",
      "(344, 7)\n"
     ]
    }
   ],
   "source": [
    "import pandas as pd\n",
    "\n",
    "data = pd.read_csv('dati/penguins_size.csv')\n",
    "print(data.head())\n",
    "print(data.info())\n",
    "print(data.shape) # ci sono 344 dati di pinguini, ognuno con 7 valori"
   ],
   "metadata": {
    "collapsed": false
   }
  },
  {
   "cell_type": "markdown",
   "source": [
    "Con Pandas possiamo interrogare i dati, estraendo solo le informazioni che ci servono.\n",
    "Ad esempio, per filtrare tutti i pinguini maschio e i pinguini femmina basta scrivere:"
   ],
   "metadata": {
    "collapsed": false
   }
  },
  {
   "cell_type": "code",
   "execution_count": 15,
   "outputs": [
    {
     "name": "stdout",
     "output_type": "stream",
     "text": [
      "(168, 7)\n",
      "(165, 7)\n"
     ]
    }
   ],
   "source": [
    "m_penguins = data[data['sex'] == \"MALE\"]\n",
    "f_penguins = data[data['sex'] == \"FEMALE\"]\n",
    "\n",
    "print(m_penguins.shape)\n",
    "print(f_penguins.shape)"
   ],
   "metadata": {
    "collapsed": false
   }
  },
  {
   "cell_type": "markdown",
   "source": [
    "Allo stesso modo, possiamo estrarre tutti i pinguini con massa maggiore di un certo valore:"
   ],
   "metadata": {
    "collapsed": false
   }
  },
  {
   "cell_type": "code",
   "execution_count": 21,
   "outputs": [
    {
     "name": "stdout",
     "output_type": "stream",
     "text": [
      "(9, 7)\n"
     ]
    }
   ],
   "source": [
    "body_penguin = data[data['body_mass_g'] < 3000]\n",
    "print(body_penguin.shape)"
   ],
   "metadata": {
    "collapsed": false
   }
  },
  {
   "cell_type": "markdown",
   "source": [
    "Con Pandas possiamo anche solo stampare i dati filtrati per colonne, quindi visualizzare solo alcune informazioni:"
   ],
   "metadata": {
    "collapsed": false
   }
  },
  {
   "cell_type": "code",
   "execution_count": 22,
   "outputs": [
    {
     "data": {
      "text/plain": "    species  culmen_length_mm\n0    Adelie              39.1\n1    Adelie              39.5\n2    Adelie              40.3\n3    Adelie               NaN\n4    Adelie              36.7\n..      ...               ...\n339  Gentoo               NaN\n340  Gentoo              46.8\n341  Gentoo              50.4\n342  Gentoo              45.2\n343  Gentoo              49.9\n\n[344 rows x 2 columns]",
      "text/html": "<div>\n<style scoped>\n    .dataframe tbody tr th:only-of-type {\n        vertical-align: middle;\n    }\n\n    .dataframe tbody tr th {\n        vertical-align: top;\n    }\n\n    .dataframe thead th {\n        text-align: right;\n    }\n</style>\n<table border=\"1\" class=\"dataframe\">\n  <thead>\n    <tr style=\"text-align: right;\">\n      <th></th>\n      <th>species</th>\n      <th>culmen_length_mm</th>\n    </tr>\n  </thead>\n  <tbody>\n    <tr>\n      <th>0</th>\n      <td>Adelie</td>\n      <td>39.1</td>\n    </tr>\n    <tr>\n      <th>1</th>\n      <td>Adelie</td>\n      <td>39.5</td>\n    </tr>\n    <tr>\n      <th>2</th>\n      <td>Adelie</td>\n      <td>40.3</td>\n    </tr>\n    <tr>\n      <th>3</th>\n      <td>Adelie</td>\n      <td>NaN</td>\n    </tr>\n    <tr>\n      <th>4</th>\n      <td>Adelie</td>\n      <td>36.7</td>\n    </tr>\n    <tr>\n      <th>...</th>\n      <td>...</td>\n      <td>...</td>\n    </tr>\n    <tr>\n      <th>339</th>\n      <td>Gentoo</td>\n      <td>NaN</td>\n    </tr>\n    <tr>\n      <th>340</th>\n      <td>Gentoo</td>\n      <td>46.8</td>\n    </tr>\n    <tr>\n      <th>341</th>\n      <td>Gentoo</td>\n      <td>50.4</td>\n    </tr>\n    <tr>\n      <th>342</th>\n      <td>Gentoo</td>\n      <td>45.2</td>\n    </tr>\n    <tr>\n      <th>343</th>\n      <td>Gentoo</td>\n      <td>49.9</td>\n    </tr>\n  </tbody>\n</table>\n<p>344 rows × 2 columns</p>\n</div>"
     },
     "execution_count": 22,
     "metadata": {},
     "output_type": "execute_result"
    }
   ],
   "source": [
    "data[['species', 'culmen_length_mm']]"
   ],
   "metadata": {
    "collapsed": false
   }
  },
  {
   "cell_type": "markdown",
   "source": [
    "# Scikit-Learn\n",
    "\n",
    "Scikit-learn ([https://scikit-learn.org/stable/index.html](https://scikit-learn.org/stable/index.html)) è una libreria contenente algoritmi predittivi già implementati (kNN, logistic regression, Naive Bayes, etc) e sarà la libreria di riferimento che useremo per tutta la durata del corso.\n",
    "\n",
    "Per chi lavora sulla propria macchina, installare scikit-learn è semplice.\n",
    "Aprite un terminale e digitate il seguente comando:\n",
    "```\n",
    "pip install scikit-learn\n",
    "```\n",
    "Caricare dataset pinguini con Pandas\n",
    "Plot con matplotlib"
   ],
   "metadata": {
    "collapsed": false
   }
  },
  {
   "cell_type": "code",
   "execution_count": 6,
   "outputs": [
    {
     "name": "stdout",
     "output_type": "stream",
     "text": [
      "1.1.2\n"
     ]
    }
   ],
   "source": [
    "import sklearn\n",
    "\n",
    "print(sklearn.__version__)\n"
   ],
   "metadata": {
    "collapsed": false
   }
  },
  {
   "cell_type": "markdown",
   "source": [],
   "metadata": {
    "collapsed": false
   }
  }
 ],
 "metadata": {
  "kernelspec": {
   "display_name": "Python 3 (ipykernel)",
   "language": "python",
   "name": "python3"
  },
  "language_info": {
   "codemirror_mode": {
    "name": "ipython",
    "version": 3
   },
   "file_extension": ".py",
   "mimetype": "text/x-python",
   "name": "python",
   "nbconvert_exporter": "python",
   "pygments_lexer": "ipython3",
   "version": "3.8.13"
  }
 },
 "nbformat": 4,
 "nbformat_minor": 5
}
