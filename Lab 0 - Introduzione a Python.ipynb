{
 "cells": [
  {
   "cell_type": "markdown",
   "id": "b454dd2e",
   "metadata": {},
   "source": [
    "# Introduzione a Python\n",
    "\n",
    "Python è un linguaggio di programmazione sempre più popolare e richiesto nel mondo del lavoro, date le sue applicazioni nell'ambito dell'analisi dati e machine learning.\n"
   ]
  },
  {
   "cell_type": "code",
   "execution_count": 3,
   "id": "9b338343",
   "metadata": {},
   "outputs": [
    {
     "name": "stdout",
     "output_type": "stream",
     "text": [
      "Hello World!\n"
     ]
    }
   ],
   "source": [
    "print(\"Hello World!\")"
   ]
  },
  {
   "cell_type": "markdown",
   "id": "4df9c499",
   "metadata": {},
   "source": [
    "# Google Colab\n",
    "\n",
    "Nel corso, useremo python principalmente tramite [Google Colab](https://colab.research.google.com/), un ambiente interattivo sviluppato per sfruttare l'infrastruttura cloud di Google.\n",
    "Seguendo questa modalità, non ci sarà bisogno di installare Python sulla propria macchina ma basterà completare i blocchi di codice all'interno della poattaforma cloud.\n",
    "\n",
    "Per aprire questa esercitazione su Colab, basta cliccare sull'immagine qui sotto:\n",
    "\n",
    "<a target=\"_blank\" href=\"https://colab.research.google.com/github/zangobot/BusinessAnalytics_TeachingMaterials\">\n",
    "  <img src=\"https://colab.research.google.com/assets/colab-badge.svg\" alt=\"Open In Colab\"/>\n",
    "</a>"
   ]
  },
  {
   "cell_type": "code",
   "execution_count": null,
   "id": "057054c5",
   "metadata": {},
   "outputs": [],
   "source": []
  }
 ],
 "metadata": {
  "kernelspec": {
   "display_name": "Python 3 (ipykernel)",
   "language": "python",
   "name": "python3"
  },
  "language_info": {
   "codemirror_mode": {
    "name": "ipython",
    "version": 3
   },
   "file_extension": ".py",
   "mimetype": "text/x-python",
   "name": "python",
   "nbconvert_exporter": "python",
   "pygments_lexer": "ipython3",
   "version": "3.8.13"
  }
 },
 "nbformat": 4,
 "nbformat_minor": 5
}
