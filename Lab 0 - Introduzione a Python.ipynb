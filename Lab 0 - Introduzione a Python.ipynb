{
 "cells": [
  {
   "cell_type": "markdown",
   "id": "b454dd2e",
   "metadata": {},
   "source": [
    "# Introduzione a Python\n",
    "\n",
    "Python è un linguaggio di programmazione sempre più popolare e richiesto nel mondo del lavoro, date le sue applicazioni nell'ambito dell'analisi dati e machine learning.\n",
    "\n",
    "Python è un linguaggio interpretato, quindi permette allo sviluppatore di poter scrivere comandi e ricevere output direttamente dal programma che interpreta le vostre direttive.\n",
    "Un esempio è riportato qui sotto.\n",
    "La seguente riga di codice stamperà un messaggio a schermo: premete MAIUSC + INVIO sulla cella sottostante per eseguire il codice."
   ]
  },
  {
   "cell_type": "code",
   "execution_count": 3,
   "id": "9b338343",
   "metadata": {},
   "outputs": [
    {
     "name": "stdout",
     "output_type": "stream",
     "text": [
      "Hello World!\n"
     ]
    }
   ],
   "source": [
    "print(\"Hello World!\")"
   ]
  },
  {
   "cell_type": "markdown",
   "id": "4df9c499",
   "metadata": {},
   "source": [
    "# Google Colab\n",
    "\n",
    "Nel corso, useremo python principalmente tramite [Google Colab](https://colab.research.google.com/), un ambiente interattivo sviluppato per sfruttare l'infrastruttura cloud di Google.\n",
    "Seguendo questa modalità, non ci sarà bisogno di installare Python sulla propria macchina ma basterà completare i blocchi di codice all'interno della poattaforma cloud.\n",
    "\n",
    "Per aprire questa esercitazione su Colab, basta cliccare sull'immagine qui sotto:\n",
    "\n",
    "<a target=\"_blank\" href=\"https://colab.research.google.com/github/zangobot/BusinessAnalytics_TeachingMaterial/blob/main/Lab%200%20-%20Introduzione%20a%20Python.ipynb\">\n",
    "  <img src=\"https://colab.research.google.com/assets/colab-badge.svg\" alt=\"Open In Colab\"/>\n",
    "</a>\n",
    "\n",
    "Colab può essere aperto da qualsiasi dispositivo abbiate (tablet, computer, telefono) e non richiede nessun tipo di installazione.\n",
    "\n",
    "**ATTENZIONE:** se non collegate Colab ad un account Google Drive, tutti i vostri progressi andranno persi.\n",
    "RIcordatevi sempre di:\n",
    "* salvare il file colab all'interno del vostro Google Drive\n",
    "* OPPURE scaricare a fine esercitazione quello che avete scritto"
   ]
  },
  {
   "cell_type": "markdown",
   "source": [
    "# Opzionale: Installare Python sulla propria macchina\n",
    "\n",
    "Se per caso la rete dovesse avere un malfunzionamento, Colab non sarà più disponibile: lavorate sulla vostra macchina!\n",
    "Per installare Python, basta seguire questo tutorial: [https://python.land/installing-python](https://python.land/installing-python)\n",
    "Una volta impostata la macchina, per accedere alla linea di comando (tipo la prima cella di questo file), basterà eseguire:\n",
    "'python.exe' su Windows o 'python' su Linux e MacOS."
   ],
   "metadata": {
    "collapsed": false
   }
  },
  {
   "cell_type": "markdown",
   "source": [
    "Operazioni\n",
    "\n",
    "Iniziamo con delle semplici operazioni aritmetiche.\n",
    "Per sommare, sottrarre, moltiplicare, dividere basta digitare:"
   ],
   "metadata": {
    "collapsed": false
   }
  },
  {
   "cell_type": "code",
   "execution_count": 6,
   "id": "057054c5",
   "metadata": {},
   "outputs": [
    {
     "name": "stdout",
     "output_type": "stream",
     "text": [
      "2\n",
      "1\n",
      "6\n",
      "4.0\n",
      "4\n"
     ]
    }
   ],
   "source": [
    "print(1 + 1)\n",
    "\n",
    "print(10 - 9)\n",
    "\n",
    "print( 2 * 3)\n",
    "\n",
    "print(8 / 2)\n",
    "\n",
    "print(9 // 2) # DIVISIONE INTERA"
   ]
  },
  {
   "cell_type": "code",
   "execution_count": 7,
   "outputs": [],
   "source": [
    "# Esercizio: calcolate la somma dei numeri da 1 a 10 compresi\n",
    "# Esercizio: calcolate la moltiplicazione dei numeri da 1 a 10 compresi"
   ],
   "metadata": {
    "collapsed": false
   }
  },
  {
   "cell_type": "markdown",
   "source": [
    "Scrivere tutti i numeri uno dopo l'altro non ha molto senso. E se chiedessi 20,30,40 numeri?\n",
    "E se chiedessi di sommare SOLO i numeri pari o solo i numeri dispari?\n",
    "E se volessi salvare il risultato per dopo?"
   ],
   "metadata": {
    "collapsed": false
   }
  },
  {
   "cell_type": "markdown",
   "source": [
    "# Variabili\n",
    "\n",
    "Una *variabile* è una zona di memoria in cui salvo informazioni da utilizzare successivamente.\n",
    "Le variabili sono fondamentali per poter salvare risultati che si ottengono quando si programma.\n",
    "Per dichiarare variabili in Python, la sintassi è la seguente:"
   ],
   "metadata": {
    "collapsed": false
   }
  },
  {
   "cell_type": "code",
   "execution_count": 9,
   "outputs": [
    {
     "name": "stdout",
     "output_type": "stream",
     "text": [
      "6\n",
      "Ciao, questo è un messaggio\n",
      "Questa è magia nera\n"
     ]
    }
   ],
   "source": [
    "a = 3\n",
    "print(a * 2)\n",
    "\n",
    "b = \"Ciao, questo è un messaggio\"\n",
    "print(b)\n",
    "\n",
    "c = print\n",
    "c(\"Questa è magia nera\")"
   ],
   "metadata": {
    "collapsed": false
   }
  },
  {
   "cell_type": "markdown",
   "source": [
    "Tutto può essere assegnato ad una variabile: un numero, una stringa (sequenza di caratteri), perfino *print*.\n",
    "\n",
    "I caratteri ammessi per dare il nome ad una variabile sono:\n",
    "* tutte le lettere maiuscole e minuscole (A-Z e a-z)\n",
    "* tutti i numeri (0-9)\n",
    "* il carattere speciale underscore _\n",
    "\n",
    "Le variabili sono utili quando hanno un nome significativo, così da poter ricordare successivamente per cosa fossero state create.\n",
    "**Usare lo stesso nome significa usare la stessa variabile**:"
   ],
   "metadata": {
    "collapsed": false
   }
  },
  {
   "cell_type": "code",
   "execution_count": 10,
   "outputs": [
    {
     "name": "stdout",
     "output_type": "stream",
     "text": [
      "Ciao\n"
     ]
    }
   ],
   "source": [
    "a = 5\n",
    "a = \"Ciao\"\n",
    "\n",
    "print(a)"
   ],
   "metadata": {
    "collapsed": false
   }
  },
  {
   "cell_type": "markdown",
   "source": [
    "L'ultima assegnazione è quella che conta. Potete accumulare i risultati dentro ua variabile, ed il valore sarà sempre l'ultimo assegnato."
   ],
   "metadata": {
    "collapsed": false
   }
  },
  {
   "cell_type": "code",
   "execution_count": 11,
   "outputs": [],
   "source": [
    "# Esercizio: sommare due numeri, salvarli dentro una variabile e stamparli in output\n",
    "# Esercizio: dividere due numeri, salvarli dentro una variabile e stamparli in output\n",
    "# Esercizio: dividere due numeri, ma uno è zero"
   ],
   "metadata": {
    "collapsed": false
   }
  },
  {
   "cell_type": "markdown",
   "source": [
    "# Booleani e condizioni\n",
    "\n",
    "Un programma deve accorgersi della possibile divisione per zero, o comunque avere la possibilità di decidere in base a delle condizioni.\n",
    "Introduciamo quindi i valori di verità VERO e FALSO."
   ],
   "metadata": {
    "collapsed": false
   }
  },
  {
   "cell_type": "code",
   "execution_count": 14,
   "outputs": [
    {
     "name": "stdout",
     "output_type": "stream",
     "text": [
      "False\n",
      "True\n",
      "False\n",
      "True\n",
      "True\n",
      "False\n",
      "False\n",
      "True\n",
      "True\n",
      "False\n"
     ]
    }
   ],
   "source": [
    "a = True\n",
    "b = False\n",
    "\n",
    "print(a and b)\n",
    "print(a or b)\n",
    "print(not a)\n",
    "print(not b)\n",
    "\n",
    "c = 10\n",
    "d = 20\n",
    "print(c != d)\n",
    "print(c > d)\n",
    "print(c >= d)\n",
    "print(c < d)\n",
    "print(c <= d)\n",
    "print(c == d)\n"
   ],
   "metadata": {
    "collapsed": false
   }
  },
  {
   "cell_type": "markdown",
   "source": [
    "Con questi valori di verità, possiamo introdurre le condizioni."
   ],
   "metadata": {
    "collapsed": false
   }
  },
  {
   "cell_type": "code",
   "execution_count": 15,
   "outputs": [
    {
     "name": "stdout",
     "output_type": "stream",
     "text": [
      "2 è maggiore di 1\n",
      "Divisione per zero!\n"
     ]
    }
   ],
   "source": [
    "if 2 > 1:\n",
    "    print(\"2 è maggiore di 1\")\n",
    "\n",
    "a = 7\n",
    "b = 0\n",
    "if b == 0:\n",
    "    print(\"Divisione per zero!\")\n",
    "else:\n",
    "    print(a / b)"
   ],
   "metadata": {
    "collapsed": false
   }
  },
  {
   "cell_type": "code",
   "execution_count": null,
   "outputs": [],
   "source": [],
   "metadata": {
    "collapsed": false
   }
  }
 ],
 "metadata": {
  "kernelspec": {
   "display_name": "Python 3 (ipykernel)",
   "language": "python",
   "name": "python3"
  },
  "language_info": {
   "codemirror_mode": {
    "name": "ipython",
    "version": 3
   },
   "file_extension": ".py",
   "mimetype": "text/x-python",
   "name": "python",
   "nbconvert_exporter": "python",
   "pygments_lexer": "ipython3",
   "version": "3.8.13"
  }
 },
 "nbformat": 4,
 "nbformat_minor": 5
}
